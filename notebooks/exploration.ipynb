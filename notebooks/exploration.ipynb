{
 "cells": [
  {
   "cell_type": "markdown",
   "id": "01123083-ac34-448e-b998-6fb845ede3f3",
   "metadata": {},
   "source": [
    "# Alzheimer's disease classification"
   ]
  },
  {
   "cell_type": "markdown",
   "id": "15b44f9d-b402-4c16-96e2-e29ce95c1d0e",
   "metadata": {},
   "source": [
    "## import libraries"
   ]
  },
  {
   "cell_type": "code",
   "execution_count": 7,
   "id": "306d70bc-ea8b-4f1f-84f4-9e4f920ea5ce",
   "metadata": {},
   "outputs": [],
   "source": [
    "import torch\n",
    "import numpy as np\n",
    "import pandas as pd\n",
    "from torch import nn\n",
    "import random\n",
    "import os\n",
    "\n",
    "import warnings\n",
    "warnings.filterwarnings('ignore')"
   ]
  },
  {
   "cell_type": "markdown",
   "id": "5db5c148-2aa9-4963-a745-7fde33436113",
   "metadata": {},
   "source": [
    "## Load data\n",
    "\n",
    "data for this project can be found at this github repo : https://github.com/14thibea/OASIS-1_dataset.git"
   ]
  },
  {
   "cell_type": "code",
   "execution_count": 2,
   "id": "ca3c2cce-3586-4c88-82c7-c03a868afb8d",
   "metadata": {},
   "outputs": [],
   "source": [
    "data = pd.read_csv('C:\\\\Users\\\\DELL\\\\Alzheimer\\'s-disease-classification\\\\OASIS-1_dataset\\\\tsv_files\\\\lab_1\\\\OASIS_BIDS.tsv', sep='\\t')"
   ]
  },
  {
   "cell_type": "code",
   "execution_count": 3,
   "id": "d77658b2-0649-4d32-bd13-2da37439e4f0",
   "metadata": {},
   "outputs": [
    {
     "data": {
      "text/html": [
       "<div>\n",
       "<style scoped>\n",
       "    .dataframe tbody tr th:only-of-type {\n",
       "        vertical-align: middle;\n",
       "    }\n",
       "\n",
       "    .dataframe tbody tr th {\n",
       "        vertical-align: top;\n",
       "    }\n",
       "\n",
       "    .dataframe thead th {\n",
       "        text-align: right;\n",
       "    }\n",
       "</style>\n",
       "<table border=\"1\" class=\"dataframe\">\n",
       "  <thead>\n",
       "    <tr style=\"text-align: right;\">\n",
       "      <th></th>\n",
       "      <th>participant_id</th>\n",
       "      <th>session_id</th>\n",
       "      <th>alternative_id_1</th>\n",
       "      <th>sex</th>\n",
       "      <th>education_level</th>\n",
       "      <th>age_bl</th>\n",
       "      <th>cdr</th>\n",
       "      <th>diagnosis_bl</th>\n",
       "      <th>laterality</th>\n",
       "      <th>MMS</th>\n",
       "      <th>cdr_global</th>\n",
       "      <th>diagnosis</th>\n",
       "    </tr>\n",
       "  </thead>\n",
       "  <tbody>\n",
       "    <tr>\n",
       "      <th>0</th>\n",
       "      <td>sub-OASIS10001</td>\n",
       "      <td>ses-M00</td>\n",
       "      <td>OAS1_0001_MR1</td>\n",
       "      <td>F</td>\n",
       "      <td>2.0</td>\n",
       "      <td>74</td>\n",
       "      <td>0.0</td>\n",
       "      <td>CN</td>\n",
       "      <td>R</td>\n",
       "      <td>29.0</td>\n",
       "      <td>0.0</td>\n",
       "      <td>CN</td>\n",
       "    </tr>\n",
       "    <tr>\n",
       "      <th>1</th>\n",
       "      <td>sub-OASIS10002</td>\n",
       "      <td>ses-M00</td>\n",
       "      <td>OAS1_0002_MR1</td>\n",
       "      <td>F</td>\n",
       "      <td>4.0</td>\n",
       "      <td>55</td>\n",
       "      <td>0.0</td>\n",
       "      <td>CN</td>\n",
       "      <td>R</td>\n",
       "      <td>29.0</td>\n",
       "      <td>0.0</td>\n",
       "      <td>CN</td>\n",
       "    </tr>\n",
       "    <tr>\n",
       "      <th>2</th>\n",
       "      <td>sub-OASIS10003</td>\n",
       "      <td>ses-M00</td>\n",
       "      <td>OAS1_0003_MR1</td>\n",
       "      <td>F</td>\n",
       "      <td>4.0</td>\n",
       "      <td>73</td>\n",
       "      <td>0.5</td>\n",
       "      <td>AD</td>\n",
       "      <td>R</td>\n",
       "      <td>27.0</td>\n",
       "      <td>0.5</td>\n",
       "      <td>AD</td>\n",
       "    </tr>\n",
       "    <tr>\n",
       "      <th>3</th>\n",
       "      <td>sub-OASIS10004</td>\n",
       "      <td>ses-M00</td>\n",
       "      <td>OAS1_0004_MR1</td>\n",
       "      <td>M</td>\n",
       "      <td>NaN</td>\n",
       "      <td>28</td>\n",
       "      <td>30.0</td>\n",
       "      <td>CN</td>\n",
       "      <td>R</td>\n",
       "      <td>30.0</td>\n",
       "      <td>30.0</td>\n",
       "      <td>CN</td>\n",
       "    </tr>\n",
       "    <tr>\n",
       "      <th>4</th>\n",
       "      <td>sub-OASIS10005</td>\n",
       "      <td>ses-M00</td>\n",
       "      <td>OAS1_0005_MR1</td>\n",
       "      <td>M</td>\n",
       "      <td>NaN</td>\n",
       "      <td>18</td>\n",
       "      <td>30.0</td>\n",
       "      <td>CN</td>\n",
       "      <td>R</td>\n",
       "      <td>30.0</td>\n",
       "      <td>30.0</td>\n",
       "      <td>CN</td>\n",
       "    </tr>\n",
       "  </tbody>\n",
       "</table>\n",
       "</div>"
      ],
      "text/plain": [
       "   participant_id session_id alternative_id_1 sex  education_level  age_bl  \\\n",
       "0  sub-OASIS10001    ses-M00    OAS1_0001_MR1   F              2.0      74   \n",
       "1  sub-OASIS10002    ses-M00    OAS1_0002_MR1   F              4.0      55   \n",
       "2  sub-OASIS10003    ses-M00    OAS1_0003_MR1   F              4.0      73   \n",
       "3  sub-OASIS10004    ses-M00    OAS1_0004_MR1   M              NaN      28   \n",
       "4  sub-OASIS10005    ses-M00    OAS1_0005_MR1   M              NaN      18   \n",
       "\n",
       "    cdr diagnosis_bl laterality   MMS  cdr_global diagnosis  \n",
       "0   0.0           CN          R  29.0         0.0        CN  \n",
       "1   0.0           CN          R  29.0         0.0        CN  \n",
       "2   0.5           AD          R  27.0         0.5        AD  \n",
       "3  30.0           CN          R  30.0        30.0        CN  \n",
       "4  30.0           CN          R  30.0        30.0        CN  "
      ]
     },
     "execution_count": 3,
     "metadata": {},
     "output_type": "execute_result"
    }
   ],
   "source": [
    "data.head()"
   ]
  },
  {
   "cell_type": "markdown",
   "id": "668cf2f6-1c92-42be-9f1f-eeb0220b8f6a",
   "metadata": {},
   "source": [
    "Two labels exist in this dataset:\n",
    "\n",
    "* CN (Cognitively Normal) for healthy participants.\n",
    "* AD (Alzheimer's Disease) for patients affected by Alzheimer's disease.\n"
   ]
  },
  {
   "cell_type": "markdown",
   "id": "14348dea-20db-45eb-8652-1bcfb3b84f64",
   "metadata": {},
   "source": [
    "One crucial step before training a neural network is to check the dataset. Are the classes balanced ? Are there biases in the dataset that may differentiate the labels ?\n",
    "\n",
    "Here we will focus on the demographics (age, sex and level of education) and two cognitive scores:\n",
    "\n",
    "* The **MMS** (Mini Mental State), rated between 0 (no correct answer) to 30 (healthy subject)\n",
    "\n",
    "* The **CDR** (Clinical Dementia Rating), that is null if the participant is non-demented and of 0.5, 1, 2 and 3 for very mild, mild, moderate and severe dementia, respectively"
   ]
  },
  {
   "cell_type": "code",
   "execution_count": 4,
   "id": "327d847a-99b0-4e85-b547-7308501713f1",
   "metadata": {},
   "outputs": [
    {
     "name": "stdout",
     "output_type": "stream",
     "text": [
      "<class 'pandas.core.frame.DataFrame'>\n",
      "RangeIndex: 377 entries, 0 to 376\n",
      "Data columns (total 12 columns):\n",
      " #   Column            Non-Null Count  Dtype  \n",
      "---  ------            --------------  -----  \n",
      " 0   participant_id    377 non-null    object \n",
      " 1   session_id        377 non-null    object \n",
      " 2   alternative_id_1  377 non-null    object \n",
      " 3   sex               377 non-null    object \n",
      " 4   education_level   197 non-null    float64\n",
      " 5   age_bl            377 non-null    int64  \n",
      " 6   cdr               377 non-null    float64\n",
      " 7   diagnosis_bl      377 non-null    object \n",
      " 8   laterality        377 non-null    object \n",
      " 9   MMS               377 non-null    float64\n",
      " 10  cdr_global        377 non-null    float64\n",
      " 11  diagnosis         377 non-null    object \n",
      "dtypes: float64(4), int64(1), object(7)\n",
      "memory usage: 35.5+ KB\n"
     ]
    }
   ],
   "source": [
    "data.info()"
   ]
  },
  {
   "cell_type": "markdown",
   "id": "9850b52b-6eed-4fab-939a-be825f0b6a3d",
   "metadata": {},
   "source": [
    "### Missing values"
   ]
  },
  {
   "cell_type": "code",
   "execution_count": 5,
   "id": "24c57029-f401-4ecd-a1cf-bb5bc5c11b23",
   "metadata": {},
   "outputs": [
    {
     "data": {
      "text/plain": [
       "participant_id        0\n",
       "session_id            0\n",
       "alternative_id_1      0\n",
       "sex                   0\n",
       "education_level     180\n",
       "age_bl                0\n",
       "cdr                   0\n",
       "diagnosis_bl          0\n",
       "laterality            0\n",
       "MMS                   0\n",
       "cdr_global            0\n",
       "diagnosis             0\n",
       "dtype: int64"
      ]
     },
     "execution_count": 5,
     "metadata": {},
     "output_type": "execute_result"
    }
   ],
   "source": [
    "data.isna().sum()"
   ]
  },
  {
   "cell_type": "markdown",
   "id": "d3ea8cdd-ac5e-41a5-9c7a-2ca2bd88ed2e",
   "metadata": {},
   "source": [
    "Let's check the number of instance in each class"
   ]
  },
  {
   "cell_type": "code",
   "execution_count": 6,
   "id": "3b126f88-556c-4b32-bf6c-704c6d89b911",
   "metadata": {},
   "outputs": [
    {
     "data": {
      "text/plain": [
       "CN    304\n",
       "AD     73\n",
       "Name: diagnosis, dtype: int64"
      ]
     },
     "execution_count": 6,
     "metadata": {},
     "output_type": "execute_result"
    }
   ],
   "source": [
    "data.diagnosis.value_counts()"
   ]
  },
  {
   "cell_type": "markdown",
   "id": "7d913337-1077-42ae-bfe4-792279a42ada",
   "metadata": {},
   "source": [
    "Our dataset contains 304 Cognitively Normal persons and 73 of patients that are affected by Alzheimer's disease. Our dataset is imbalanced."
   ]
  },
  {
   "cell_type": "markdown",
   "id": "a384c513-dbf4-49da-a573-2037f2933cc4",
   "metadata": {},
   "source": [
    "In the next section we will study the characteristics of control participants and patients that are affected by Alzheimer's disease"
   ]
  },
  {
   "cell_type": "code",
   "execution_count": 7,
   "id": "46064d1f-f146-42a4-97d5-910b3b0008c9",
   "metadata": {},
   "outputs": [
    {
     "data": {
      "text/plain": [
       "30.0    180\n",
       "0.0     124\n",
       "0.5      45\n",
       "1.0      26\n",
       "2.0       2\n",
       "Name: cdr, dtype: int64"
      ]
     },
     "execution_count": 7,
     "metadata": {},
     "output_type": "execute_result"
    }
   ],
   "source": [
    "data.cdr.value_counts()"
   ]
  },
  {
   "cell_type": "code",
   "execution_count": 8,
   "id": "54b6f108-cc1d-4b2c-a01a-7d39fdaa2823",
   "metadata": {},
   "outputs": [
    {
     "data": {
      "text/html": [
       "<div>\n",
       "<style scoped>\n",
       "    .dataframe tbody tr th:only-of-type {\n",
       "        vertical-align: middle;\n",
       "    }\n",
       "\n",
       "    .dataframe tbody tr th {\n",
       "        vertical-align: top;\n",
       "    }\n",
       "\n",
       "    .dataframe thead th {\n",
       "        text-align: right;\n",
       "    }\n",
       "</style>\n",
       "<table border=\"1\" class=\"dataframe\">\n",
       "  <thead>\n",
       "    <tr style=\"text-align: right;\">\n",
       "      <th></th>\n",
       "      <th>Number</th>\n",
       "      <th>age</th>\n",
       "      <th>perc_sexF</th>\n",
       "      <th>education</th>\n",
       "      <th>MMS</th>\n",
       "      <th>CDR=0</th>\n",
       "      <th>CDR=0.5</th>\n",
       "      <th>CDR=1</th>\n",
       "      <th>CDR=2</th>\n",
       "      <th>N</th>\n",
       "      <th>%sexF</th>\n",
       "    </tr>\n",
       "  </thead>\n",
       "  <tbody>\n",
       "    <tr>\n",
       "      <th>AD</th>\n",
       "      <td>NaN</td>\n",
       "      <td>77.5 ± 7.4</td>\n",
       "      <td>NaN</td>\n",
       "      <td>2.7 ± 1.3</td>\n",
       "      <td>22.7 ± 3.6</td>\n",
       "      <td>0</td>\n",
       "      <td>45</td>\n",
       "      <td>26</td>\n",
       "      <td>2</td>\n",
       "      <td>73.0</td>\n",
       "      <td>63.0</td>\n",
       "    </tr>\n",
       "    <tr>\n",
       "      <th>CN</th>\n",
       "      <td>NaN</td>\n",
       "      <td>44.0 ± 23.3</td>\n",
       "      <td>NaN</td>\n",
       "      <td>3.5 ± 1.2</td>\n",
       "      <td>29.7 ± 0.6</td>\n",
       "      <td>124</td>\n",
       "      <td>0</td>\n",
       "      <td>0</td>\n",
       "      <td>0</td>\n",
       "      <td>304.0</td>\n",
       "      <td>62.2</td>\n",
       "    </tr>\n",
       "  </tbody>\n",
       "</table>\n",
       "</div>"
      ],
      "text/plain": [
       "   Number          age perc_sexF  education         MMS CDR=0 CDR=0.5 CDR=1  \\\n",
       "AD    NaN   77.5 ± 7.4       NaN  2.7 ± 1.3  22.7 ± 3.6     0      45    26   \n",
       "CN    NaN  44.0 ± 23.3       NaN  3.5 ± 1.2  29.7 ± 0.6   124       0     0   \n",
       "\n",
       "   CDR=2      N  %sexF  \n",
       "AD     2   73.0   63.0  \n",
       "CN     0  304.0   62.2  "
      ]
     },
     "execution_count": 8,
     "metadata": {},
     "output_type": "execute_result"
    }
   ],
   "source": [
    "def characteristics_table(df, merged_df):\n",
    "    \"\"\"Creates a DataFrame that summarizes the characteristics of the DataFrame df\"\"\"\n",
    "    diagnoses = np.unique(df.diagnosis.values)\n",
    "    population_df = pd.DataFrame(index=diagnoses,\n",
    "                                columns=['Number', 'age', 'perc_sexF', 'education',\n",
    "                                         'MMS', 'CDR=0', 'CDR=0.5', 'CDR=1', 'CDR=2'])\n",
    "    merged_df = merged_df.set_index(['participant_id', 'session_id'], drop=True)\n",
    "    df = df.set_index(['participant_id', 'session_id'], drop=True)\n",
    "    sub_merged_df = merged_df.loc[df.index]\n",
    "    \n",
    "    for diagnosis in population_df.index.values:\n",
    "        diagnosis_df = sub_merged_df[df.diagnosis == diagnosis]\n",
    "        population_df.loc[diagnosis, 'N'] = len(diagnosis_df)\n",
    "        # Age\n",
    "        mean_age = np.mean(diagnosis_df.age_bl)\n",
    "        std_age = np.std(diagnosis_df.age_bl)\n",
    "        population_df.loc[diagnosis, 'age'] = '%.1f ± %.1f' % (mean_age, std_age)\n",
    "        # Sex\n",
    "        population_df.loc[diagnosis, '%sexF'] = round((len(diagnosis_df[diagnosis_df.sex == 'F']) / len(diagnosis_df)) * 100, 1)\n",
    "        # Education level\n",
    "        mean_education_level = np.nanmean(diagnosis_df.education_level)\n",
    "        std_education_level = np.nanstd(diagnosis_df.education_level)\n",
    "        population_df.loc[diagnosis, 'education'] = '%.1f ± %.1f' % (mean_education_level, std_education_level)\n",
    "        # MMS\n",
    "        mean_MMS = np.mean(diagnosis_df.MMS)\n",
    "        std_MMS = np.std(diagnosis_df.MMS)\n",
    "        population_df.loc[diagnosis, 'MMS'] = '%.1f ± %.1f' % (mean_MMS, std_MMS)\n",
    "        # CDR\n",
    "        for value in ['0', '0.5', '1', '2']:\n",
    "            population_df.loc[diagnosis, 'CDR=%s' % value] = len(diagnosis_df[diagnosis_df.cdr_global == float(value)])\n",
    "\n",
    "    return population_df\n",
    "\n",
    "population_df = characteristics_table(data, data)\n",
    "population_df"
   ]
  },
  {
   "cell_type": "markdown",
   "id": "decaa687-4d25-4807-b5fb-4adc27e032c9",
   "metadata": {},
   "source": [
    "## Data Preprocessing"
   ]
  },
  {
   "cell_type": "markdown",
   "id": "17102185-a116-477e-80bc-e7c315bda228",
   "metadata": {},
   "source": [
    "we have only a few images to train the network in this lab session, the preprocessing here is very extensive. More specifically, the images encountered:\n",
    "* Non-linear registration\n",
    "* Segmentation of grey matter\n",
    "* Conversion to tensor format (.pt)\n",
    "\n",
    "The preprocessed images all have the same size (121x145x121)"
   ]
  },
  {
   "cell_type": "code",
   "execution_count": null,
   "id": "cd03ab8d-48f5-499f-88e0-016921c78d64",
   "metadata": {},
   "outputs": [],
   "source": []
  }
 ],
 "metadata": {
  "kernelspec": {
   "display_name": "Python 3 (ipykernel)",
   "language": "python",
   "name": "python3"
  },
  "language_info": {
   "codemirror_mode": {
    "name": "ipython",
    "version": 3
   },
   "file_extension": ".py",
   "mimetype": "text/x-python",
   "name": "python",
   "nbconvert_exporter": "python",
   "pygments_lexer": "ipython3",
   "version": "3.8.10"
  }
 },
 "nbformat": 4,
 "nbformat_minor": 5
}
